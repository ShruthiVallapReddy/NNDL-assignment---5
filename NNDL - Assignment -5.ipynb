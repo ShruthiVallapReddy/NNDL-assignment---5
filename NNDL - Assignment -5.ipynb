{
 "cells": [
  {
   "cell_type": "code",
   "execution_count": 8,
   "id": "e0bc2ef5",
   "metadata": {},
   "outputs": [
    {
     "name": "stdout",
     "output_type": "stream",
     "text": [
      "Accuracy score: 0.37209302325581395\n",
      "\n",
      "Classification report:\n",
      "              precision    recall  f1-score   support\n",
      "\n",
      "           1       0.19      0.44      0.27         9\n",
      "           2       0.33      0.16      0.21        19\n",
      "           3       0.33      0.20      0.25         5\n",
      "           5       0.00      0.00      0.00         2\n",
      "           6       0.67      1.00      0.80         2\n",
      "           7       1.00      1.00      1.00         6\n",
      "\n",
      "    accuracy                           0.37        43\n",
      "   macro avg       0.42      0.47      0.42        43\n",
      "weighted avg       0.40      0.37      0.36        43\n",
      "\n"
     ]
    }
   ],
   "source": [
    "import pandas as pd\n",
    "from sklearn.model_selection import train_test_split\n",
    "from sklearn.naive_bayes import GaussianNB\n",
    "from sklearn.metrics import classification_report, accuracy_score\n",
    "# Load the glass dataset\n",
    "glass_df = pd.read_csv(r\"C:\\Users\\15014\\Documents\\GitHub\\NNDL-assignment---5\\NNDL_Code and Data\\glass.csv\")\n",
    "# Split the data into features and target\n",
    "features_x= glass_df.drop(\"Type\", axis=1)\n",
    "target_y= glass_df[\"Type\"]\n",
    "# Split the data into training and testing sets\n",
    "X_train, X_test, y_train, y_test = train_test_split(features_x, target_y, test_size=0.2, random_state=0)\n",
    "# Create the Naive Bayes classifier\n",
    "naive_bayes = GaussianNB()\n",
    "# Fit the classifier on the training data\n",
    "naive_bayes.fit(X_train, y_train)\n",
    "# Predict the classes of the test data\n",
    "y_pred = naive_bayes.predict(X_test)\n",
    "# Evaluate the model on the test data\n",
    "print(\"Accuracy score:\", accuracy_score(y_test, y_pred))\n",
    "print(\"\\nClassification report:\")\n",
    "print(classification_report(y_test, y_pred))\n"
   ]
  },
  {
   "cell_type": "code",
   "execution_count": 12,
   "id": "71c3045c",
   "metadata": {},
   "outputs": [
    {
     "name": "stdout",
     "output_type": "stream",
     "text": [
      "Accuracy score: 0.5116279069767442\n",
      "\n",
      "Classification report:\n",
      "              precision    recall  f1-score   support\n",
      "\n",
      "           1       0.36      0.89      0.52         9\n",
      "           2       0.58      0.37      0.45        19\n",
      "           3       0.00      0.00      0.00         5\n",
      "           5       0.50      0.50      0.50         2\n",
      "           6       0.00      0.00      0.00         2\n",
      "           7       0.86      1.00      0.92         6\n",
      "\n",
      "    accuracy                           0.51        43\n",
      "   macro avg       0.38      0.46      0.40        43\n",
      "weighted avg       0.48      0.51      0.46        43\n",
      "\n"
     ]
    }
   ],
   "source": [
    "import pandas as pd\n",
    "from sklearn.model_selection import train_test_split\n",
    "from sklearn.svm import SVC\n",
    "from sklearn.metrics import classification_report, accuracy_score\n",
    "\n",
    "# Load the glass dataset\n",
    "glass_df = pd.read_csv(r\"C:\\Users\\15014\\Documents\\GitHub\\NNDL-assignment---5\\NNDL_Code and Data\\glass.csv\")\n",
    "# Split the data into features and target\n",
    "X = glass_df.drop(\"Type\", axis=1)\n",
    "y = glass_df[\"Type\"]\n",
    "# Split the data into training and testing sets\n",
    "X_train, X_test, y_train, y_test = train_test_split(X, y, test_size=0.2, random_state=0)\n",
    "# Create the linear SVM classifier\n",
    "svm = SVC(kernel=\"linear\", C=1.0, random_state=0)\n",
    "# Fit the classifier on the training data\n",
    "svm.fit(X_train, y_train)\n",
    "# Predict the classes of the test data\n",
    "y_pred = svm.predict(X_test)\n",
    "\n",
    "# Evaluate the model on the test data\n",
    "print(\"Accuracy score:\", accuracy_score(y_test, y_pred))\n",
    "print(\"\\nClassification report:\")\n",
    "print(classification_report(y_test, y_pred,zero_division=0))\n"
   ]
  },
  {
   "cell_type": "code",
   "execution_count": null,
   "id": "c024e2e1",
   "metadata": {},
   "outputs": [],
   "source": []
  }
 ],
 "metadata": {
  "kernelspec": {
   "display_name": "Python 3 (ipykernel)",
   "language": "python",
   "name": "python3"
  },
  "language_info": {
   "codemirror_mode": {
    "name": "ipython",
    "version": 3
   },
   "file_extension": ".py",
   "mimetype": "text/x-python",
   "name": "python",
   "nbconvert_exporter": "python",
   "pygments_lexer": "ipython3",
   "version": "3.11.1"
  }
 },
 "nbformat": 4,
 "nbformat_minor": 5
}
